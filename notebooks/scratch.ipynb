{
 "cells": [
  {
   "attachments": {},
   "cell_type": "markdown",
   "metadata": {},
   "source": [
    "# **Setup**"
   ]
  },
  {
   "attachments": {},
   "cell_type": "markdown",
   "metadata": {},
   "source": [
    "### **Libraries**"
   ]
  },
  {
   "cell_type": "code",
   "execution_count": 121,
   "metadata": {},
   "outputs": [],
   "source": [
    "import pandas as pd\n",
    "from tqdm.auto import tqdm \n",
    "import re "
   ]
  },
  {
   "attachments": {},
   "cell_type": "markdown",
   "metadata": {},
   "source": [
    "### **Data**"
   ]
  },
  {
   "cell_type": "code",
   "execution_count": 122,
   "metadata": {},
   "outputs": [
    {
     "name": "stdout",
     "output_type": "stream",
     "text": [
      "Number of Rows : 97255\n"
     ]
    },
    {
     "data": {
      "text/html": [
       "<div>\n",
       "<style scoped>\n",
       "    .dataframe tbody tr th:only-of-type {\n",
       "        vertical-align: middle;\n",
       "    }\n",
       "\n",
       "    .dataframe tbody tr th {\n",
       "        vertical-align: top;\n",
       "    }\n",
       "\n",
       "    .dataframe thead th {\n",
       "        text-align: right;\n",
       "    }\n",
       "</style>\n",
       "<table border=\"1\" class=\"dataframe\">\n",
       "  <thead>\n",
       "    <tr style=\"text-align: right;\">\n",
       "      <th></th>\n",
       "      <th>user_name</th>\n",
       "      <th>user_elo</th>\n",
       "      <th>opening_code</th>\n",
       "      <th>opening_name</th>\n",
       "      <th>pgn</th>\n",
       "      <th>opening_category</th>\n",
       "    </tr>\n",
       "  </thead>\n",
       "  <tbody>\n",
       "    <tr>\n",
       "      <th>0</th>\n",
       "      <td>bkrrhanife2</td>\n",
       "      <td>1772</td>\n",
       "      <td>D02</td>\n",
       "      <td>Queen's Pawn Game: London System</td>\n",
       "      <td>1. d4 { [%eval 0.25] [%clk 0:10:00] } 1... d5 ...</td>\n",
       "      <td>D</td>\n",
       "    </tr>\n",
       "    <tr>\n",
       "      <th>1</th>\n",
       "      <td>Chessbullets</td>\n",
       "      <td>1828</td>\n",
       "      <td>B08</td>\n",
       "      <td>Pirc Defense: Classical Variation, Schlechter ...</td>\n",
       "      <td>1. e4 { [%eval 0.24] [%clk 0:10:00] } 1... g6 ...</td>\n",
       "      <td>B</td>\n",
       "    </tr>\n",
       "    <tr>\n",
       "      <th>2</th>\n",
       "      <td>Tweaker</td>\n",
       "      <td>1407</td>\n",
       "      <td>C21</td>\n",
       "      <td>Danish Gambit</td>\n",
       "      <td>1. e4 { [%eval 0.24] [%clk 0:00:30] } 1... e5 ...</td>\n",
       "      <td>C</td>\n",
       "    </tr>\n",
       "  </tbody>\n",
       "</table>\n",
       "</div>"
      ],
      "text/plain": [
       "      user_name  user_elo opening_code  \\\n",
       "0   bkrrhanife2      1772          D02   \n",
       "1  Chessbullets      1828          B08   \n",
       "2       Tweaker      1407          C21   \n",
       "\n",
       "                                        opening_name  \\\n",
       "0                   Queen's Pawn Game: London System   \n",
       "1  Pirc Defense: Classical Variation, Schlechter ...   \n",
       "2                                      Danish Gambit   \n",
       "\n",
       "                                                 pgn opening_category  \n",
       "0  1. d4 { [%eval 0.25] [%clk 0:10:00] } 1... d5 ...                D  \n",
       "1  1. e4 { [%eval 0.24] [%clk 0:10:00] } 1... g6 ...                B  \n",
       "2  1. e4 { [%eval 0.24] [%clk 0:00:30] } 1... e5 ...                C  "
      ]
     },
     "execution_count": 122,
     "metadata": {},
     "output_type": "execute_result"
    }
   ],
   "source": [
    "games_df = pd.read_csv('../data/processed_2019_06_df.csv')\n",
    "games_df = games_df[['user_name', 'user_elo', 'opening_code', 'opening_name', 'pgn']]\n",
    "games_df['opening_category'] = games_df['opening_code'].apply(lambda x: x[0])\n",
    "\n",
    "print('Number of Rows :', len(games_df))\n",
    "\n",
    "games_df.head(3)"
   ]
  },
  {
   "attachments": {},
   "cell_type": "markdown",
   "metadata": {},
   "source": [
    "# **Code**"
   ]
  },
  {
   "attachments": {},
   "cell_type": "markdown",
   "metadata": {},
   "source": [
    "### **Utils**"
   ]
  },
  {
   "cell_type": "code",
   "execution_count": 123,
   "metadata": {},
   "outputs": [],
   "source": [
    "def get_substring(start_char, end_char, text):\n",
    "    '''\n",
    "    Helper function for unpack_game()\n",
    "    '''\n",
    "\n",
    "    search_string = start_char + '(.+?)' + end_char\n",
    "    result = re.search(search_string, text)\n",
    "\n",
    "    if result:\n",
    "        return result.group(1)\n",
    "    else:\n",
    "        return None "
   ]
  },
  {
   "attachments": {},
   "cell_type": "markdown",
   "metadata": {},
   "source": [
    "### **Data Exploration**"
   ]
  },
  {
   "attachments": {},
   "cell_type": "markdown",
   "metadata": {},
   "source": [
    "#### Unpacking PGN "
   ]
  },
  {
   "cell_type": "code",
   "execution_count": 124,
   "metadata": {},
   "outputs": [
    {
     "data": {
      "text/plain": [
       "['e4 { [%eval 0.24] [%clk 0:00:30] } 1..',\n",
       " 'e5 { [%eval 0.37] [%clk 0:00:30] } 2',\n",
       " 'd4 { [%eval -0.11] [%clk 0:00:33] } 2..',\n",
       " 'exd4 { [%eval 0.0] [%clk 0:00:33] } 3',\n",
       " 'c3 { [%eval -0.42] [%clk 0:00:37] } 3..',\n",
       " 'Qe7 { [%eval -0.32] [%clk 0:00:36] } 4',\n",
       " 'Bd3 { [%eval -0.52] [%clk 0:00:38] } 4..',\n",
       " 'd5 { [%eval -0.37] [%clk 0:00:39] } 5',\n",
       " 'Qa4+? { [%eval -2.13] [%clk 0:00:37] } 5..',\n",
       " 'c6? { [%eval -0.78] [%clk 0:00:41] } 6',\n",
       " 'Nf3?? { [%eval -5.75] [%clk 0:00:35] } 6..',\n",
       " 'dxe4 { [%eval -5.68] [%clk 0:00:44] } 7',\n",
       " 'Bg5 { [%eval -5.43] [%clk 0:00:28] } 7..',\n",
       " 'Qe6? { [%eval -2.59] [%clk 0:00:44] } 8',\n",
       " 'O-O { [%eval -2.49] [%clk 0:00:24] } 8..',\n",
       " 'exf3 { [%eval -2.71] [%clk 0:00:43] } 9',\n",
       " 'Bc4?? { [%eval -10.42] [%clk 0:00:13] } 9..',\n",
       " 'Qg4 { [%eval -10.35] [%clk 0:00:42] } 10',\n",
       " 'Re1+ { [%eval -10.26] [%clk 0:00:15] } 10..',\n",
       " 'Be7 { [%eval -10.36] [%clk 0:00:44] } 11']"
      ]
     },
     "execution_count": 124,
     "metadata": {},
     "output_type": "execute_result"
    }
   ],
   "source": [
    "sample_pgn = games_df.iloc[2]['pgn']\n",
    "moves = sample_pgn.split('. ')\n",
    "moves[1:21]"
   ]
  },
  {
   "cell_type": "code",
   "execution_count": 125,
   "metadata": {},
   "outputs": [
    {
     "data": {
      "text/plain": [
       "['Qg4 { [%eval -10.35] [%clk 0:00:42] } 10',\n",
       " 'Re1+ { [%eval -10.26] [%clk 0:00:15] } 10..',\n",
       " 'Be7 { [%eval -10.36] [%clk 0:00:44] } 11',\n",
       " 'Bxe7?! { [%eval #-1] [%clk 0:00:16] } 11..',\n",
       " 'Qxg2# { [%clk 0:00:42] } 0-1\\n']"
      ]
     },
     "execution_count": 125,
     "metadata": {},
     "output_type": "execute_result"
    }
   ],
   "source": [
    "moves[-5:]"
   ]
  },
  {
   "cell_type": "code",
   "execution_count": 126,
   "metadata": {},
   "outputs": [],
   "source": [
    "def unpack_moves(pgn_str):\n",
    "    ''' \n",
    "    Returns a list of tuples, where each tuples is \n",
    "    (move, evaluation at move)\n",
    "    '''\n",
    "    moves = pgn_str.split('. ')[1:]\n",
    "    unpacked_moves = []\n",
    "    for move_str in moves:\n",
    "        move = get_substring('', ' {', move_str)\n",
    "        eval = get_substring('eval ', '] ', move_str)\n",
    "\n",
    "        if eval == None:\n",
    "            pass\n",
    "        elif '#' in eval:\n",
    "            eval = float(eval[1:])\n",
    "        else:\n",
    "            eval = float(eval)\n",
    "        \n",
    "        unpacked_moves.append((move, eval))\n",
    "\n",
    "    return unpacked_moves"
   ]
  },
  {
   "cell_type": "code",
   "execution_count": 127,
   "metadata": {},
   "outputs": [
    {
     "data": {
      "text/plain": [
       "[('e4', 0.24),\n",
       " ('e5', 0.37),\n",
       " ('d4', -0.11),\n",
       " ('exd4', 0.0),\n",
       " ('c3', -0.42),\n",
       " ('Qe7', -0.32),\n",
       " ('Bd3', -0.52),\n",
       " ('d5', -0.37),\n",
       " ('Qa4+?', -2.13),\n",
       " ('c6?', -0.78),\n",
       " ('Nf3??', -5.75),\n",
       " ('dxe4', -5.68),\n",
       " ('Bg5', -5.43),\n",
       " ('Qe6?', -2.59),\n",
       " ('O-O', -2.49),\n",
       " ('exf3', -2.71),\n",
       " ('Bc4??', -10.42)]"
      ]
     },
     "execution_count": 127,
     "metadata": {},
     "output_type": "execute_result"
    }
   ],
   "source": [
    "sample_unpacked_moves = unpack_moves(sample_pgn)\n",
    "sample_unpacked_moves[:-5]"
   ]
  },
  {
   "attachments": {},
   "cell_type": "markdown",
   "metadata": {},
   "source": [
    "#### Feature Extraction"
   ]
  },
  {
   "attachments": {},
   "cell_type": "markdown",
   "metadata": {},
   "source": [
    "For a single tuple"
   ]
  },
  {
   "cell_type": "code",
   "execution_count": 136,
   "metadata": {},
   "outputs": [],
   "source": [
    "def get_square(move_str):\n",
    "    for i, c in enumerate(move_str):\n",
    "        if c.isdigit():\n",
    "            return move_str[i-1:i+1]\n",
    "    \n",
    "    return '!' \n",
    "\n",
    "def get_move_attributes(move_tuple):\n",
    "    move = move_tuple[0]\n",
    "    if move == None:\n",
    "        return ('!', 0, 0, 0)\n",
    "\n",
    "    capture = int('x' in move)\n",
    "    check = int(('+' in move) or ('#' in move))\n",
    "    pawn_density = 0 \n",
    "\n",
    "    piece = move[0]\n",
    "    if piece not in ['K', 'Q', 'R', 'B', 'N']:\n",
    "        piece = 'P'\n",
    "\n",
    "    square = get_square(move)\n",
    "\n",
    "    central_squares = ['c3', 'c4', 'c5', 'c6', \n",
    "                       'd3', 'd4', 'd5', 'd6',  \n",
    "                       'e3', 'e4', 'e5', 'e6',\n",
    "                       'f3', 'f4', 'f5', 'f6']\n",
    "\n",
    "    if piece == 'P' and square in central_squares:\n",
    "        pawn_density += 1\n",
    "\n",
    "    return (piece, capture, check, pawn_density)"
   ]
  },
  {
   "cell_type": "code",
   "execution_count": 137,
   "metadata": {},
   "outputs": [
    {
     "data": {
      "text/plain": [
       "('P', 1, 1, 1)"
      ]
     },
     "execution_count": 137,
     "metadata": {},
     "output_type": "execute_result"
    }
   ],
   "source": [
    "get_move_attributes(('exe4+', 0.1))"
   ]
  },
  {
   "attachments": {},
   "cell_type": "markdown",
   "metadata": {},
   "source": [
    "For a list of tuples"
   ]
  },
  {
   "cell_type": "code",
   "execution_count": 140,
   "metadata": {},
   "outputs": [],
   "source": [
    "def get_move_attributes_game(move_lst):\n",
    "    piece_movements = {'K': 0, 'Q': 0, 'R': 0, 'B': 0, 'N': 0, 'P': 0}\n",
    "    captures = 0\n",
    "    checks = 0\n",
    "    pawn_density = 0\n",
    "\n",
    "    attributes_5 = [0,0,0,0,0,0,0,0,0]\n",
    "    attributes_10 = [0,0,0,0,0,0,0,0,0]\n",
    "    attributes_15 = [0,0,0,0,0,0,0,0,0]\n",
    "    attributes_final = []\n",
    "\n",
    "    if len(move_lst) < 19 and len(move_lst) % 2 == 0:\n",
    "        last_3_evals = [move_lst[-6][1],move_lst[-4][1],move_lst[-2][1]]\n",
    "    elif len(move_lst) < 19 and len(move_lst) % 2 != 0:\n",
    "        last_3_evals = [move_lst[-5][1],move_lst[-3][1],move_lst[-1][1]]\n",
    "    else:\n",
    "        last_3_evals = [move_lst[14][1],move_lst[16][1],move_lst[18][1]]\n",
    "\n",
    "    last_3_evals = [x for x in last_3_evals if x is not None]\n",
    "    opening_eval = round(sum(last_3_evals) / len(last_3_evals), 2)\n",
    "    \n",
    "    for move_num, move in enumerate(move_lst):\n",
    "\n",
    "        if move_num % 2 != 0:\n",
    "            continue\n",
    "        else:\n",
    "            move_num = (move_num / 2) + 1\n",
    "\n",
    "        piece, capture, check, pawn_density = get_move_attributes(move)\n",
    "\n",
    "        if piece == '!':\n",
    "            continue \n",
    "\n",
    "        piece_movements[piece] += 1\n",
    "        captures += capture\n",
    "        checks += check\n",
    "        pawn_density += pawn_density\n",
    "\n",
    "        if move_num == 5:\n",
    "            attributes_5 = [piece_movements[piece] / 5 for piece in piece_movements.keys()]\n",
    "            attributes_5 += [captures / 5, checks / 5, pawn_density / 5]\n",
    "            piece_movements = {'K': 0, 'Q': 0, 'R': 0, 'B': 0, 'N': 0, 'P': 0}\n",
    "            captures = 0\n",
    "            checks = 0\n",
    "            pawn_density = 0\n",
    "        if move_num == 10:\n",
    "            attributes_10 = [piece_movements[piece] / 10 for piece in piece_movements.keys()]\n",
    "            attributes_10 += [captures / 10, checks / 10, pawn_density / 10]\n",
    "            piece_movements = {'K': 0, 'Q': 0, 'R': 0, 'B': 0, 'N': 0, 'P': 0}\n",
    "            captures = 0\n",
    "            checks = 0\n",
    "            pawn_density = 0\n",
    "        if move_num == 15:\n",
    "            attributes_15 = [piece_movements[piece] / 15 for piece in piece_movements.keys()]\n",
    "            attributes_15 += [captures / 15, checks / 15, pawn_density / 15]\n",
    "            piece_movements = {'K': 0, 'Q': 0, 'R': 0, 'B': 0, 'N': 0, 'P': 0}\n",
    "            captures = 0\n",
    "            checks = 0\n",
    "            pawn_density = 0\n",
    "\n",
    "    moves = int(len(move_lst) / 2)\n",
    "    attributes_final = [piece_movements[piece] / moves for piece in piece_movements.keys()]\n",
    "    attributes_final += [captures / moves, checks / moves, pawn_density / moves]\n",
    "    attributes_final = [round(x, 2) for x in attributes_final]\n",
    "\n",
    "    try:\n",
    "        return attributes_5, attributes_10, attributes_15, attributes_final, opening_eval\n",
    "    except:\n",
    "        print(last_3_evals)\n",
    "        print(move_lst)\n",
    "        return attributes_5, attributes_10, attributes_15, attributes_final, opening_eval\n"
   ]
  },
  {
   "cell_type": "code",
   "execution_count": 141,
   "metadata": {},
   "outputs": [
    {
     "data": {
      "text/plain": [
       "([0.0, 0.2, 0.0, 0.2, 0.0, 0.6, 0.0, 0.2, 0.0],\n",
       " [0.0, 0.0, 0.1, 0.2, 0.1, 0.1, 0.0, 0.1, 0.0],\n",
       " [0, 0, 0, 0, 0, 0, 0, 0, 0],\n",
       " [0.0, 0.0, 0.0, 0.09, 0.0, 0.0, 0.09, 0.0, 0.0],\n",
       " -7.72)"
      ]
     },
     "execution_count": 141,
     "metadata": {},
     "output_type": "execute_result"
    }
   ],
   "source": [
    "get_move_attributes_game(sample_unpacked_moves)"
   ]
  },
  {
   "attachments": {},
   "cell_type": "markdown",
   "metadata": {},
   "source": [
    "#### Applying to Pandas DF "
   ]
  },
  {
   "attachments": {},
   "cell_type": "markdown",
   "metadata": {},
   "source": [
    "Unpack Moves"
   ]
  },
  {
   "cell_type": "code",
   "execution_count": 142,
   "metadata": {},
   "outputs": [
    {
     "data": {
      "text/html": [
       "<div>\n",
       "<style scoped>\n",
       "    .dataframe tbody tr th:only-of-type {\n",
       "        vertical-align: middle;\n",
       "    }\n",
       "\n",
       "    .dataframe tbody tr th {\n",
       "        vertical-align: top;\n",
       "    }\n",
       "\n",
       "    .dataframe thead th {\n",
       "        text-align: right;\n",
       "    }\n",
       "</style>\n",
       "<table border=\"1\" class=\"dataframe\">\n",
       "  <thead>\n",
       "    <tr style=\"text-align: right;\">\n",
       "      <th></th>\n",
       "      <th>unpacked_moves</th>\n",
       "    </tr>\n",
       "  </thead>\n",
       "  <tbody>\n",
       "    <tr>\n",
       "      <th>0</th>\n",
       "      <td>[(d4, 0.25), (d5, 0.25), (Bf4, 0.0), (Nf6, 0.0...</td>\n",
       "    </tr>\n",
       "    <tr>\n",
       "      <th>1</th>\n",
       "      <td>[(e4, 0.24), (g6, 0.46), (d4, 0.28), (Bg7, 0.3...</td>\n",
       "    </tr>\n",
       "    <tr>\n",
       "      <th>2</th>\n",
       "      <td>[(e4, 0.24), (e5, 0.37), (d4, -0.11), (exd4, 0...</td>\n",
       "    </tr>\n",
       "  </tbody>\n",
       "</table>\n",
       "</div>"
      ],
      "text/plain": [
       "                                      unpacked_moves\n",
       "0  [(d4, 0.25), (d5, 0.25), (Bf4, 0.0), (Nf6, 0.0...\n",
       "1  [(e4, 0.24), (g6, 0.46), (d4, 0.28), (Bg7, 0.3...\n",
       "2  [(e4, 0.24), (e5, 0.37), (d4, -0.11), (exd4, 0..."
      ]
     },
     "execution_count": 142,
     "metadata": {},
     "output_type": "execute_result"
    }
   ],
   "source": [
    "games_df['unpacked_moves'] = games_df.apply(lambda row: unpack_moves(row['pgn']), axis = 1)\n",
    "games_df[['unpacked_moves']].head(3)"
   ]
  },
  {
   "attachments": {},
   "cell_type": "markdown",
   "metadata": {},
   "source": [
    "Get move attributes"
   ]
  },
  {
   "cell_type": "code",
   "execution_count": 143,
   "metadata": {},
   "outputs": [
    {
     "data": {
      "text/html": [
       "<div>\n",
       "<style scoped>\n",
       "    .dataframe tbody tr th:only-of-type {\n",
       "        vertical-align: middle;\n",
       "    }\n",
       "\n",
       "    .dataframe tbody tr th {\n",
       "        vertical-align: top;\n",
       "    }\n",
       "\n",
       "    .dataframe thead th {\n",
       "        text-align: right;\n",
       "    }\n",
       "</style>\n",
       "<table border=\"1\" class=\"dataframe\">\n",
       "  <thead>\n",
       "    <tr style=\"text-align: right;\">\n",
       "      <th></th>\n",
       "      <th>game_attributes</th>\n",
       "    </tr>\n",
       "  </thead>\n",
       "  <tbody>\n",
       "    <tr>\n",
       "      <th>0</th>\n",
       "      <td>([0.0, 0.0, 0.0, 0.4, 0.2, 0.4, 0.2, 0.0, 0.0]...</td>\n",
       "    </tr>\n",
       "    <tr>\n",
       "      <th>1</th>\n",
       "      <td>([0.0, 0.0, 0.0, 0.0, 0.4, 0.6, 0.0, 0.0, 0.0]...</td>\n",
       "    </tr>\n",
       "    <tr>\n",
       "      <th>2</th>\n",
       "      <td>([0.0, 0.2, 0.0, 0.2, 0.0, 0.6, 0.0, 0.2, 0.0]...</td>\n",
       "    </tr>\n",
       "  </tbody>\n",
       "</table>\n",
       "</div>"
      ],
      "text/plain": [
       "                                     game_attributes\n",
       "0  ([0.0, 0.0, 0.0, 0.4, 0.2, 0.4, 0.2, 0.0, 0.0]...\n",
       "1  ([0.0, 0.0, 0.0, 0.0, 0.4, 0.6, 0.0, 0.0, 0.0]...\n",
       "2  ([0.0, 0.2, 0.0, 0.2, 0.0, 0.6, 0.0, 0.2, 0.0]..."
      ]
     },
     "execution_count": 143,
     "metadata": {},
     "output_type": "execute_result"
    }
   ],
   "source": [
    "games_df['game_attributes'] = games_df.apply(lambda row: get_move_attributes_game(row['unpacked_moves']), axis = 1)\n",
    "games_df[['game_attributes']].head(3)"
   ]
  },
  {
   "attachments": {},
   "cell_type": "markdown",
   "metadata": {},
   "source": [
    "#### Featurized Dataframe"
   ]
  },
  {
   "cell_type": "code",
   "execution_count": 144,
   "metadata": {},
   "outputs": [
    {
     "data": {
      "text/html": [
       "<div>\n",
       "<style scoped>\n",
       "    .dataframe tbody tr th:only-of-type {\n",
       "        vertical-align: middle;\n",
       "    }\n",
       "\n",
       "    .dataframe tbody tr th {\n",
       "        vertical-align: top;\n",
       "    }\n",
       "\n",
       "    .dataframe thead th {\n",
       "        text-align: right;\n",
       "    }\n",
       "</style>\n",
       "<table border=\"1\" class=\"dataframe\">\n",
       "  <thead>\n",
       "    <tr style=\"text-align: right;\">\n",
       "      <th></th>\n",
       "      <th>user_name</th>\n",
       "      <th>user_elo</th>\n",
       "      <th>opening_code</th>\n",
       "      <th>opening_name</th>\n",
       "      <th>opening_category</th>\n",
       "      <th>opening_eval</th>\n",
       "      <th>move5_K</th>\n",
       "      <th>move5_Q</th>\n",
       "      <th>move5_R</th>\n",
       "      <th>move5_B</th>\n",
       "      <th>...</th>\n",
       "      <th>move15_pawn_density</th>\n",
       "      <th>final_K</th>\n",
       "      <th>final_Q</th>\n",
       "      <th>final_R</th>\n",
       "      <th>final_B</th>\n",
       "      <th>final_N</th>\n",
       "      <th>final_P</th>\n",
       "      <th>final_captures</th>\n",
       "      <th>final_checks</th>\n",
       "      <th>final_pawn_density</th>\n",
       "    </tr>\n",
       "  </thead>\n",
       "  <tbody>\n",
       "    <tr>\n",
       "      <th>0</th>\n",
       "      <td>bkrrhanife2</td>\n",
       "      <td>1772</td>\n",
       "      <td>D02</td>\n",
       "      <td>Queen's Pawn Game: London System</td>\n",
       "      <td>D</td>\n",
       "      <td>-3.98</td>\n",
       "      <td>0.0</td>\n",
       "      <td>0.0</td>\n",
       "      <td>0.0</td>\n",
       "      <td>0.4</td>\n",
       "      <td>...</td>\n",
       "      <td>0.0</td>\n",
       "      <td>0.07</td>\n",
       "      <td>0.00</td>\n",
       "      <td>0.07</td>\n",
       "      <td>0.00</td>\n",
       "      <td>0.14</td>\n",
       "      <td>0.00</td>\n",
       "      <td>0.14</td>\n",
       "      <td>0.00</td>\n",
       "      <td>0.0</td>\n",
       "    </tr>\n",
       "    <tr>\n",
       "      <th>1</th>\n",
       "      <td>Chessbullets</td>\n",
       "      <td>1828</td>\n",
       "      <td>B08</td>\n",
       "      <td>Pirc Defense: Classical Variation, Schlechter ...</td>\n",
       "      <td>B</td>\n",
       "      <td>0.47</td>\n",
       "      <td>0.0</td>\n",
       "      <td>0.0</td>\n",
       "      <td>0.0</td>\n",
       "      <td>0.0</td>\n",
       "      <td>...</td>\n",
       "      <td>0.0</td>\n",
       "      <td>0.00</td>\n",
       "      <td>0.00</td>\n",
       "      <td>0.17</td>\n",
       "      <td>0.14</td>\n",
       "      <td>0.21</td>\n",
       "      <td>0.00</td>\n",
       "      <td>0.14</td>\n",
       "      <td>0.24</td>\n",
       "      <td>0.0</td>\n",
       "    </tr>\n",
       "    <tr>\n",
       "      <th>2</th>\n",
       "      <td>Tweaker</td>\n",
       "      <td>1407</td>\n",
       "      <td>C21</td>\n",
       "      <td>Danish Gambit</td>\n",
       "      <td>C</td>\n",
       "      <td>-7.72</td>\n",
       "      <td>0.0</td>\n",
       "      <td>0.2</td>\n",
       "      <td>0.0</td>\n",
       "      <td>0.2</td>\n",
       "      <td>...</td>\n",
       "      <td>0.0</td>\n",
       "      <td>0.00</td>\n",
       "      <td>0.00</td>\n",
       "      <td>0.00</td>\n",
       "      <td>0.09</td>\n",
       "      <td>0.00</td>\n",
       "      <td>0.00</td>\n",
       "      <td>0.09</td>\n",
       "      <td>0.00</td>\n",
       "      <td>0.0</td>\n",
       "    </tr>\n",
       "    <tr>\n",
       "      <th>3</th>\n",
       "      <td>monopunkt</td>\n",
       "      <td>1238</td>\n",
       "      <td>C46</td>\n",
       "      <td>Three Knights Opening #2</td>\n",
       "      <td>C</td>\n",
       "      <td>0.99</td>\n",
       "      <td>0.0</td>\n",
       "      <td>0.0</td>\n",
       "      <td>0.0</td>\n",
       "      <td>0.0</td>\n",
       "      <td>...</td>\n",
       "      <td>0.0</td>\n",
       "      <td>0.00</td>\n",
       "      <td>0.04</td>\n",
       "      <td>0.08</td>\n",
       "      <td>0.00</td>\n",
       "      <td>0.16</td>\n",
       "      <td>0.12</td>\n",
       "      <td>0.08</td>\n",
       "      <td>0.00</td>\n",
       "      <td>0.0</td>\n",
       "    </tr>\n",
       "    <tr>\n",
       "      <th>4</th>\n",
       "      <td>babar295</td>\n",
       "      <td>1064</td>\n",
       "      <td>C00</td>\n",
       "      <td>French Defense: Knight Variation</td>\n",
       "      <td>C</td>\n",
       "      <td>1.79</td>\n",
       "      <td>0.0</td>\n",
       "      <td>0.0</td>\n",
       "      <td>0.0</td>\n",
       "      <td>0.0</td>\n",
       "      <td>...</td>\n",
       "      <td>0.0</td>\n",
       "      <td>0.11</td>\n",
       "      <td>0.00</td>\n",
       "      <td>0.26</td>\n",
       "      <td>0.06</td>\n",
       "      <td>0.11</td>\n",
       "      <td>0.03</td>\n",
       "      <td>0.20</td>\n",
       "      <td>0.17</td>\n",
       "      <td>0.0</td>\n",
       "    </tr>\n",
       "  </tbody>\n",
       "</table>\n",
       "<p>5 rows × 42 columns</p>\n",
       "</div>"
      ],
      "text/plain": [
       "      user_name  user_elo opening_code  \\\n",
       "0   bkrrhanife2      1772          D02   \n",
       "1  Chessbullets      1828          B08   \n",
       "2       Tweaker      1407          C21   \n",
       "3     monopunkt      1238          C46   \n",
       "4      babar295      1064          C00   \n",
       "\n",
       "                                        opening_name opening_category  \\\n",
       "0                   Queen's Pawn Game: London System                D   \n",
       "1  Pirc Defense: Classical Variation, Schlechter ...                B   \n",
       "2                                      Danish Gambit                C   \n",
       "3                           Three Knights Opening #2                C   \n",
       "4                   French Defense: Knight Variation                C   \n",
       "\n",
       "   opening_eval  move5_K  move5_Q  move5_R  move5_B  ...  move15_pawn_density  \\\n",
       "0         -3.98      0.0      0.0      0.0      0.4  ...                  0.0   \n",
       "1          0.47      0.0      0.0      0.0      0.0  ...                  0.0   \n",
       "2         -7.72      0.0      0.2      0.0      0.2  ...                  0.0   \n",
       "3          0.99      0.0      0.0      0.0      0.0  ...                  0.0   \n",
       "4          1.79      0.0      0.0      0.0      0.0  ...                  0.0   \n",
       "\n",
       "   final_K  final_Q  final_R  final_B  final_N  final_P  final_captures  \\\n",
       "0     0.07     0.00     0.07     0.00     0.14     0.00            0.14   \n",
       "1     0.00     0.00     0.17     0.14     0.21     0.00            0.14   \n",
       "2     0.00     0.00     0.00     0.09     0.00     0.00            0.09   \n",
       "3     0.00     0.04     0.08     0.00     0.16     0.12            0.08   \n",
       "4     0.11     0.00     0.26     0.06     0.11     0.03            0.20   \n",
       "\n",
       "   final_checks  final_pawn_density  \n",
       "0          0.00                 0.0  \n",
       "1          0.24                 0.0  \n",
       "2          0.00                 0.0  \n",
       "3          0.00                 0.0  \n",
       "4          0.17                 0.0  \n",
       "\n",
       "[5 rows x 42 columns]"
      ]
     },
     "execution_count": 144,
     "metadata": {},
     "output_type": "execute_result"
    }
   ],
   "source": [
    "games_df['move5'], games_df['move10'], games_df['move15'], games_df['final'], games_df['opening_eval'] = zip(*games_df['game_attributes'])\n",
    "games_df['move5_K'], games_df['move5_Q'], games_df['move5_R'], games_df['move5_B'], games_df['move5_N'], games_df['move5_P'], games_df['move5_captures'], games_df['move5_checks'], games_df['move5_pawn_density'] = zip(*games_df['move5'])\n",
    "games_df['move10_K'], games_df['move10_Q'], games_df['move10_R'], games_df['move10_B'], games_df['move10_N'], games_df['move10_P'], games_df['move10_captures'], games_df['move10_checks'], games_df['move10_pawn_density'] = zip(*games_df['move10'])\n",
    "games_df['move15_K'], games_df['move15_Q'], games_df['move15_R'], games_df['move15_B'], games_df['move15_N'], games_df['move15_P'], games_df['move15_captures'], games_df['move15_checks'], games_df['move15_pawn_density'] = zip(*games_df['move15'])\n",
    "games_df['final_K'], games_df['final_Q'], games_df['final_R'], games_df['final_B'], games_df['final_N'], games_df['final_P'], games_df['final_captures'], games_df['final_checks'], games_df['final_pawn_density'] = zip(*games_df['final'])\n",
    "\n",
    "feature_df = games_df[['user_name', 'user_elo', \n",
    "                       'opening_code', 'opening_name', 'opening_category', 'opening_eval', \n",
    "                       'move5_K', 'move5_Q', 'move5_R', 'move5_B', 'move5_N', 'move5_P', \n",
    "                       'move5_captures', 'move5_checks', 'move5_pawn_density', \n",
    "                       'move10_K', 'move10_Q', 'move10_R', 'move10_B', 'move10_N', 'move10_P', \n",
    "                       'move10_captures', 'move10_checks', 'move10_pawn_density', \n",
    "                       'move15_K', 'move15_Q', 'move15_R', 'move15_B', 'move15_N', 'move15_P', \n",
    "                       'move15_captures', 'move15_checks', 'move15_pawn_density', \n",
    "                       'final_K', 'final_Q', 'final_R', 'final_B', 'final_N', 'final_P',\n",
    "                       'final_captures', 'final_checks', 'final_pawn_density']]\n",
    "feature_df.head(5)"
   ]
  },
  {
   "cell_type": "code",
   "execution_count": 145,
   "metadata": {},
   "outputs": [
    {
     "data": {
      "text/plain": [
       "Index(['user_name', 'user_elo', 'opening_code', 'opening_name',\n",
       "       'opening_category', 'opening_eval', 'move5_K', 'move5_Q', 'move5_R',\n",
       "       'move5_B', 'move5_N', 'move5_P', 'move5_captures', 'move5_checks',\n",
       "       'move5_pawn_density', 'move10_K', 'move10_Q', 'move10_R', 'move10_B',\n",
       "       'move10_N', 'move10_P', 'move10_captures', 'move10_checks',\n",
       "       'move10_pawn_density', 'move15_K', 'move15_Q', 'move15_R', 'move15_B',\n",
       "       'move15_N', 'move15_P', 'move15_captures', 'move15_checks',\n",
       "       'move15_pawn_density', 'final_K', 'final_Q', 'final_R', 'final_B',\n",
       "       'final_N', 'final_P', 'final_captures', 'final_checks',\n",
       "       'final_pawn_density'],\n",
       "      dtype='object')"
      ]
     },
     "execution_count": 145,
     "metadata": {},
     "output_type": "execute_result"
    }
   ],
   "source": [
    "feature_df.columns"
   ]
  },
  {
   "attachments": {},
   "cell_type": "markdown",
   "metadata": {},
   "source": [
    "## **TO DO**\n",
    "\n",
    "- Build recommender system"
   ]
  },
  {
   "attachments": {},
   "cell_type": "markdown",
   "metadata": {},
   "source": [
    "#### Write to CSV "
   ]
  },
  {
   "cell_type": "code",
   "execution_count": 146,
   "metadata": {},
   "outputs": [],
   "source": [
    "feature_df.to_csv('../data/feature_df.csv', index = False)"
   ]
  }
 ],
 "metadata": {
  "kernelspec": {
   "display_name": "base",
   "language": "python",
   "name": "python3"
  },
  "language_info": {
   "codemirror_mode": {
    "name": "ipython",
    "version": 3
   },
   "file_extension": ".py",
   "mimetype": "text/x-python",
   "name": "python",
   "nbconvert_exporter": "python",
   "pygments_lexer": "ipython3",
   "version": "3.8.2"
  },
  "orig_nbformat": 4,
  "vscode": {
   "interpreter": {
    "hash": "5b42ac72c9b76896d3ce7ea1e6ce0687bfd19e16fd46a51355c5c481bc6124b3"
   }
  }
 },
 "nbformat": 4,
 "nbformat_minor": 2
}
