{
 "cells": [
  {
   "attachments": {},
   "cell_type": "markdown",
   "metadata": {},
   "source": [
    "# **Setup**"
   ]
  },
  {
   "attachments": {},
   "cell_type": "markdown",
   "metadata": {},
   "source": [
    "### **Libraries**"
   ]
  },
  {
   "cell_type": "code",
   "execution_count": 15,
   "metadata": {},
   "outputs": [],
   "source": [
    "import pandas as pd\n",
    "from tqdm.auto import tqdm \n",
    "import re "
   ]
  },
  {
   "attachments": {},
   "cell_type": "markdown",
   "metadata": {},
   "source": [
    "### **Data**"
   ]
  },
  {
   "cell_type": "code",
   "execution_count": 4,
   "metadata": {},
   "outputs": [
    {
     "name": "stdout",
     "output_type": "stream",
     "text": [
      "Number of Rows : 97255\n"
     ]
    },
    {
     "data": {
      "text/html": [
       "<div>\n",
       "<style scoped>\n",
       "    .dataframe tbody tr th:only-of-type {\n",
       "        vertical-align: middle;\n",
       "    }\n",
       "\n",
       "    .dataframe tbody tr th {\n",
       "        vertical-align: top;\n",
       "    }\n",
       "\n",
       "    .dataframe thead th {\n",
       "        text-align: right;\n",
       "    }\n",
       "</style>\n",
       "<table border=\"1\" class=\"dataframe\">\n",
       "  <thead>\n",
       "    <tr style=\"text-align: right;\">\n",
       "      <th></th>\n",
       "      <th>user_name</th>\n",
       "      <th>user_elo</th>\n",
       "      <th>opening_code</th>\n",
       "      <th>opening_name</th>\n",
       "      <th>pgn</th>\n",
       "    </tr>\n",
       "  </thead>\n",
       "  <tbody>\n",
       "    <tr>\n",
       "      <th>0</th>\n",
       "      <td>bkrrhanife2</td>\n",
       "      <td>1772</td>\n",
       "      <td>D02</td>\n",
       "      <td>Queen's Pawn Game: London System</td>\n",
       "      <td>1. d4 { [%eval 0.25] [%clk 0:10:00] } 1... d5 ...</td>\n",
       "    </tr>\n",
       "    <tr>\n",
       "      <th>1</th>\n",
       "      <td>Chessbullets</td>\n",
       "      <td>1828</td>\n",
       "      <td>B08</td>\n",
       "      <td>Pirc Defense: Classical Variation, Schlechter ...</td>\n",
       "      <td>1. e4 { [%eval 0.24] [%clk 0:10:00] } 1... g6 ...</td>\n",
       "    </tr>\n",
       "    <tr>\n",
       "      <th>2</th>\n",
       "      <td>Tweaker</td>\n",
       "      <td>1407</td>\n",
       "      <td>C21</td>\n",
       "      <td>Danish Gambit</td>\n",
       "      <td>1. e4 { [%eval 0.24] [%clk 0:00:30] } 1... e5 ...</td>\n",
       "    </tr>\n",
       "  </tbody>\n",
       "</table>\n",
       "</div>"
      ],
      "text/plain": [
       "      user_name  user_elo opening_code  \\\n",
       "0   bkrrhanife2      1772          D02   \n",
       "1  Chessbullets      1828          B08   \n",
       "2       Tweaker      1407          C21   \n",
       "\n",
       "                                        opening_name  \\\n",
       "0                   Queen's Pawn Game: London System   \n",
       "1  Pirc Defense: Classical Variation, Schlechter ...   \n",
       "2                                      Danish Gambit   \n",
       "\n",
       "                                                 pgn  \n",
       "0  1. d4 { [%eval 0.25] [%clk 0:10:00] } 1... d5 ...  \n",
       "1  1. e4 { [%eval 0.24] [%clk 0:10:00] } 1... g6 ...  \n",
       "2  1. e4 { [%eval 0.24] [%clk 0:00:30] } 1... e5 ...  "
      ]
     },
     "execution_count": 4,
     "metadata": {},
     "output_type": "execute_result"
    }
   ],
   "source": [
    "games_df = pd.read_csv('../data/processed_2019_06_df.csv')\n",
    "games_df = games_df[['user_name', 'user_elo', 'opening_code', 'opening_name', 'pgn']]\n",
    "\n",
    "print('Number of Rows :', len(games_df))\n",
    "\n",
    "games_df.head(3)"
   ]
  },
  {
   "attachments": {},
   "cell_type": "markdown",
   "metadata": {},
   "source": [
    "# **Code**"
   ]
  },
  {
   "attachments": {},
   "cell_type": "markdown",
   "metadata": {},
   "source": [
    "### **Utils**"
   ]
  },
  {
   "cell_type": "code",
   "execution_count": 16,
   "metadata": {},
   "outputs": [],
   "source": [
    "def get_substring(start_char, end_char, text):\n",
    "    '''\n",
    "    Helper function for unpack_game()\n",
    "    '''\n",
    "\n",
    "    search_string = start_char + '(.+?)' + end_char\n",
    "    result = re.search(search_string, text)\n",
    "\n",
    "    if result:\n",
    "        return result.group(1)\n",
    "    else:\n",
    "        return None "
   ]
  },
  {
   "attachments": {},
   "cell_type": "markdown",
   "metadata": {},
   "source": [
    "### **Data Exploration**"
   ]
  },
  {
   "attachments": {},
   "cell_type": "markdown",
   "metadata": {},
   "source": [
    "#### Unpacking PGN "
   ]
  },
  {
   "cell_type": "code",
   "execution_count": 17,
   "metadata": {},
   "outputs": [
    {
     "data": {
      "text/plain": [
       "['1',\n",
       " 'e4 { [%eval 0.24] [%clk 0:03:00] } 1..',\n",
       " 'c5 { [%eval 0.2] [%clk 0:03:00] } 2',\n",
       " 'Nf3 { [%eval 0.21] [%clk 0:02:58] } 2..',\n",
       " 'Nc6 { [%eval 0.08] [%clk 0:02:59] } 3']"
      ]
     },
     "execution_count": 17,
     "metadata": {},
     "output_type": "execute_result"
    }
   ],
   "source": [
    "sample_pgn = games_df.iloc[5]['pgn']\n",
    "moves = sample_pgn.split('. ')\n",
    "moves[0:5]"
   ]
  },
  {
   "cell_type": "code",
   "execution_count": 18,
   "metadata": {},
   "outputs": [
    {
     "data": {
      "text/plain": [
       "['Qh1+ { [%eval -68.09] [%clk 0:00:34] } 36',\n",
       " 'Rh2 { [%eval -27.75] [%clk 0:00:15] } 36..',\n",
       " 'Qf1+ { [%eval -15.03] [%clk 0:00:32] } 37',\n",
       " 'Rg2 { [%eval -13.73] [%clk 0:00:12] } 37..',\n",
       " 'Re2 { [%eval -12.83] [%clk 0:00:27] } 0-1\\n']"
      ]
     },
     "execution_count": 18,
     "metadata": {},
     "output_type": "execute_result"
    }
   ],
   "source": [
    "moves[-5:]"
   ]
  },
  {
   "cell_type": "code",
   "execution_count": 19,
   "metadata": {},
   "outputs": [],
   "source": [
    "def unpack_moves(pgn_str):\n",
    "    ''' \n",
    "    Returns a list of tuples, where each tuples is \n",
    "    (move, evaluation at move)\n",
    "    '''\n",
    "    moves = pgn_str.split('. ')[1:]\n",
    "    unpacked_moves = []\n",
    "    for move_str in moves:\n",
    "        move = get_substring('', ' {', move_str)\n",
    "        eval = get_substring('eval ', '] ', move_str)\n",
    "\n",
    "        if eval == None:\n",
    "            pass\n",
    "        elif '#' in eval:\n",
    "            eval = float(eval[1:])\n",
    "        else:\n",
    "            eval = float(eval)\n",
    "        \n",
    "        unpacked_moves.append((move, eval))\n",
    "\n",
    "    return unpacked_moves"
   ]
  },
  {
   "cell_type": "code",
   "execution_count": 42,
   "metadata": {},
   "outputs": [
    {
     "data": {
      "text/plain": [
       "[('e4', 0.24), ('c5', 0.2), ('Nf3', 0.21), ('Nc6', 0.08), ('Bb5', 0.0)]"
      ]
     },
     "execution_count": 42,
     "metadata": {},
     "output_type": "execute_result"
    }
   ],
   "source": [
    "sample_unpacked_moves = unpack_moves(sample_pgn)\n",
    "sample_unpacked_moves[:5]"
   ]
  },
  {
   "attachments": {},
   "cell_type": "markdown",
   "metadata": {},
   "source": [
    "#### Feature Extraction"
   ]
  },
  {
   "attachments": {},
   "cell_type": "markdown",
   "metadata": {},
   "source": [
    "For a single tuple"
   ]
  },
  {
   "cell_type": "code",
   "execution_count": 43,
   "metadata": {},
   "outputs": [],
   "source": [
    "def get_square(move_str):\n",
    "    for i, c in enumerate(move_str):\n",
    "        if c.isdigit():\n",
    "            return move_str[i-1:i+1]\n",
    "    \n",
    "    return '!' \n",
    "\n",
    "def get_move_attributes(move_tuple):\n",
    "    move = move_tuple[0]\n",
    "    if move == None:\n",
    "        return ('!', 0, 0, 0)\n",
    "\n",
    "    capture = int('x' in move)\n",
    "    check = int(('+' in move) or ('#' in move))\n",
    "    pawn_density = 0 \n",
    "\n",
    "    piece = move[0]\n",
    "    if piece not in ['K', 'Q', 'R', 'B', 'N']:\n",
    "        piece = 'P'\n",
    "\n",
    "    square = get_square(move)\n",
    "\n",
    "    central_squares = ['c3', 'c4', 'c5', 'c6', \n",
    "                       'd3', 'd4', 'd5', 'd6',  \n",
    "                       'e3', 'e4', 'e5', 'e6',\n",
    "                       'f3', 'f4', 'f5', 'f6']\n",
    "\n",
    "    if piece == 'P' and square in central_squares:\n",
    "        pawn_density += 1\n",
    "\n",
    "    return (piece, capture, check, pawn_density)"
   ]
  },
  {
   "cell_type": "code",
   "execution_count": 44,
   "metadata": {},
   "outputs": [
    {
     "data": {
      "text/plain": [
       "('P', 1, 1, 1)"
      ]
     },
     "execution_count": 44,
     "metadata": {},
     "output_type": "execute_result"
    }
   ],
   "source": [
    "get_move_attributes(('exe4+', 0.1))"
   ]
  },
  {
   "attachments": {},
   "cell_type": "markdown",
   "metadata": {},
   "source": [
    "For a list of tuples"
   ]
  },
  {
   "cell_type": "code",
   "execution_count": 50,
   "metadata": {},
   "outputs": [],
   "source": [
    "def get_move_attributes_game(move_lst):\n",
    "    piece_movements = {'K': 0, 'Q': 0, 'R': 0, 'B': 0, 'N': 0, 'P': 0}\n",
    "    captures = 0\n",
    "    checks = 0\n",
    "    pawn_density = 0\n",
    "\n",
    "    attributes_5 = []\n",
    "    attributes_10 = []\n",
    "    attributes_15 = []\n",
    "    attributes_final = []\n",
    "\n",
    "    for move_num, move in enumerate(move_lst):\n",
    "        piece, capture, check, pawn_density = get_move_attributes(move)\n",
    "\n",
    "        if piece == '!':\n",
    "            continue \n",
    "\n",
    "        piece_movements[piece] += 1\n",
    "        captures += capture\n",
    "        checks += check\n",
    "        pawn_density += pawn_density\n",
    "\n",
    "        if move_num == 4:\n",
    "            attributes_5 = [piece_movements[piece] for piece in piece_movements.keys()]\n",
    "            attributes_5 += [captures, checks, pawn_density]\n",
    "        if move_num == 9:\n",
    "            attributes_10 = [piece_movements[piece] for piece in piece_movements.keys()]\n",
    "            attributes_10 += [captures, checks, pawn_density]\n",
    "        if move_num == 14:\n",
    "            attributes_15 = [piece_movements[piece] for piece in piece_movements.keys()]\n",
    "            attributes_15 += [captures, checks, pawn_density]\n",
    "\n",
    "    attributes_final = [piece_movements[piece] for piece in piece_movements.keys()]\n",
    "    attributes_final += [captures, checks, pawn_density]\n",
    "\n",
    "    return attributes_5, attributes_10, attributes_15, attributes_final"
   ]
  },
  {
   "cell_type": "code",
   "execution_count": 46,
   "metadata": {},
   "outputs": [
    {
     "data": {
      "text/plain": [
       "([0, 0, 0, 1, 2, 2, 0, 0, 0],\n",
       " [0, 0, 0, 3, 2, 5, 2, 0, 0],\n",
       " [0, 1, 0, 3, 2, 9, 4, 0, 0],\n",
       " [2, 19, 16, 11, 7, 19, 16, 4, 0])"
      ]
     },
     "execution_count": 46,
     "metadata": {},
     "output_type": "execute_result"
    }
   ],
   "source": [
    "get_move_attributes_game(sample_unpacked_moves)"
   ]
  },
  {
   "attachments": {},
   "cell_type": "markdown",
   "metadata": {},
   "source": [
    "#### Applying to Pandas DF "
   ]
  },
  {
   "attachments": {},
   "cell_type": "markdown",
   "metadata": {},
   "source": [
    "Unpack Moves"
   ]
  },
  {
   "cell_type": "code",
   "execution_count": 30,
   "metadata": {},
   "outputs": [
    {
     "data": {
      "text/html": [
       "<div>\n",
       "<style scoped>\n",
       "    .dataframe tbody tr th:only-of-type {\n",
       "        vertical-align: middle;\n",
       "    }\n",
       "\n",
       "    .dataframe tbody tr th {\n",
       "        vertical-align: top;\n",
       "    }\n",
       "\n",
       "    .dataframe thead th {\n",
       "        text-align: right;\n",
       "    }\n",
       "</style>\n",
       "<table border=\"1\" class=\"dataframe\">\n",
       "  <thead>\n",
       "    <tr style=\"text-align: right;\">\n",
       "      <th></th>\n",
       "      <th>unpacked_moves</th>\n",
       "    </tr>\n",
       "  </thead>\n",
       "  <tbody>\n",
       "    <tr>\n",
       "      <th>0</th>\n",
       "      <td>[(d4, 0.25), (d5, 0.25), (Bf4, 0.0), (Nf6, 0.0...</td>\n",
       "    </tr>\n",
       "    <tr>\n",
       "      <th>1</th>\n",
       "      <td>[(e4, 0.24), (g6, 0.46), (d4, 0.28), (Bg7, 0.3...</td>\n",
       "    </tr>\n",
       "    <tr>\n",
       "      <th>2</th>\n",
       "      <td>[(e4, 0.24), (e5, 0.37), (d4, -0.11), (exd4, 0...</td>\n",
       "    </tr>\n",
       "  </tbody>\n",
       "</table>\n",
       "</div>"
      ],
      "text/plain": [
       "                                      unpacked_moves\n",
       "0  [(d4, 0.25), (d5, 0.25), (Bf4, 0.0), (Nf6, 0.0...\n",
       "1  [(e4, 0.24), (g6, 0.46), (d4, 0.28), (Bg7, 0.3...\n",
       "2  [(e4, 0.24), (e5, 0.37), (d4, -0.11), (exd4, 0..."
      ]
     },
     "execution_count": 30,
     "metadata": {},
     "output_type": "execute_result"
    }
   ],
   "source": [
    "games_df['unpacked_moves'] = games_df.apply(lambda row: unpack_moves(row['pgn']), axis = 1)\n",
    "games_df[['unpacked_moves']].head(3)"
   ]
  },
  {
   "attachments": {},
   "cell_type": "markdown",
   "metadata": {},
   "source": [
    "Get move attributes"
   ]
  },
  {
   "cell_type": "code",
   "execution_count": 51,
   "metadata": {},
   "outputs": [
    {
     "data": {
      "text/html": [
       "<div>\n",
       "<style scoped>\n",
       "    .dataframe tbody tr th:only-of-type {\n",
       "        vertical-align: middle;\n",
       "    }\n",
       "\n",
       "    .dataframe tbody tr th {\n",
       "        vertical-align: top;\n",
       "    }\n",
       "\n",
       "    .dataframe thead th {\n",
       "        text-align: right;\n",
       "    }\n",
       "</style>\n",
       "<table border=\"1\" class=\"dataframe\">\n",
       "  <thead>\n",
       "    <tr style=\"text-align: right;\">\n",
       "      <th></th>\n",
       "      <th>game_attributes</th>\n",
       "    </tr>\n",
       "  </thead>\n",
       "  <tbody>\n",
       "    <tr>\n",
       "      <th>0</th>\n",
       "      <td>([0, 0, 0, 1, 2, 2, 0, 0, 0], [0, 0, 1, 2, 2, ...</td>\n",
       "    </tr>\n",
       "    <tr>\n",
       "      <th>1</th>\n",
       "      <td>([0, 0, 0, 1, 1, 3, 0, 0, 0], [0, 0, 0, 1, 4, ...</td>\n",
       "    </tr>\n",
       "    <tr>\n",
       "      <th>2</th>\n",
       "      <td>([0, 0, 0, 0, 0, 5, 1, 0, 2], [0, 2, 0, 1, 0, ...</td>\n",
       "    </tr>\n",
       "  </tbody>\n",
       "</table>\n",
       "</div>"
      ],
      "text/plain": [
       "                                     game_attributes\n",
       "0  ([0, 0, 0, 1, 2, 2, 0, 0, 0], [0, 0, 1, 2, 2, ...\n",
       "1  ([0, 0, 0, 1, 1, 3, 0, 0, 0], [0, 0, 0, 1, 4, ...\n",
       "2  ([0, 0, 0, 0, 0, 5, 1, 0, 2], [0, 2, 0, 1, 0, ..."
      ]
     },
     "execution_count": 51,
     "metadata": {},
     "output_type": "execute_result"
    }
   ],
   "source": [
    "games_df['game_attributes'] = games_df.apply(lambda row: get_move_attributes_game(row['unpacked_moves']), axis = 1)\n",
    "games_df[['game_attributes']].head(3)"
   ]
  },
  {
   "cell_type": "code",
   "execution_count": null,
   "metadata": {},
   "outputs": [],
   "source": []
  }
 ],
 "metadata": {
  "kernelspec": {
   "display_name": "base",
   "language": "python",
   "name": "python3"
  },
  "language_info": {
   "codemirror_mode": {
    "name": "ipython",
    "version": 3
   },
   "file_extension": ".py",
   "mimetype": "text/x-python",
   "name": "python",
   "nbconvert_exporter": "python",
   "pygments_lexer": "ipython3",
   "version": "3.8.2"
  },
  "orig_nbformat": 4,
  "vscode": {
   "interpreter": {
    "hash": "5b42ac72c9b76896d3ce7ea1e6ce0687bfd19e16fd46a51355c5c481bc6124b3"
   }
  }
 },
 "nbformat": 4,
 "nbformat_minor": 2
}
