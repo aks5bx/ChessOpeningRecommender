{
 "cells": [
  {
   "attachments": {},
   "cell_type": "markdown",
   "metadata": {},
   "source": [
    "# **Setup**"
   ]
  },
  {
   "attachments": {},
   "cell_type": "markdown",
   "metadata": {},
   "source": [
    "### **Libraries**"
   ]
  },
  {
   "cell_type": "code",
   "execution_count": 51,
   "metadata": {},
   "outputs": [],
   "source": [
    "import pandas as pd\n",
    "from tqdm.auto import tqdm "
   ]
  },
  {
   "attachments": {},
   "cell_type": "markdown",
   "metadata": {},
   "source": [
    "### **Data**"
   ]
  },
  {
   "cell_type": "code",
   "execution_count": 57,
   "metadata": {},
   "outputs": [
    {
     "data": {
      "text/html": [
       "<div>\n",
       "<style scoped>\n",
       "    .dataframe tbody tr th:only-of-type {\n",
       "        vertical-align: middle;\n",
       "    }\n",
       "\n",
       "    .dataframe tbody tr th {\n",
       "        vertical-align: top;\n",
       "    }\n",
       "\n",
       "    .dataframe thead th {\n",
       "        text-align: right;\n",
       "    }\n",
       "</style>\n",
       "<table border=\"1\" class=\"dataframe\">\n",
       "  <thead>\n",
       "    <tr style=\"text-align: right;\">\n",
       "      <th></th>\n",
       "      <th>user_name</th>\n",
       "      <th>user_elo</th>\n",
       "      <th>opening_code</th>\n",
       "      <th>opening_name</th>\n",
       "      <th>pgn</th>\n",
       "    </tr>\n",
       "  </thead>\n",
       "  <tbody>\n",
       "    <tr>\n",
       "      <th>0</th>\n",
       "      <td>bkrrhanife2</td>\n",
       "      <td>1772</td>\n",
       "      <td>D02</td>\n",
       "      <td>Queen's Pawn Game: London System</td>\n",
       "      <td>1. d4 { [%eval 0.25] [%clk 0:10:00] } 1... d5 ...</td>\n",
       "    </tr>\n",
       "    <tr>\n",
       "      <th>1</th>\n",
       "      <td>Chessbullets</td>\n",
       "      <td>1828</td>\n",
       "      <td>B08</td>\n",
       "      <td>Pirc Defense: Classical Variation, Schlechter ...</td>\n",
       "      <td>1. e4 { [%eval 0.24] [%clk 0:10:00] } 1... g6 ...</td>\n",
       "    </tr>\n",
       "    <tr>\n",
       "      <th>2</th>\n",
       "      <td>Tweaker</td>\n",
       "      <td>1407</td>\n",
       "      <td>C21</td>\n",
       "      <td>Danish Gambit</td>\n",
       "      <td>1. e4 { [%eval 0.24] [%clk 0:00:30] } 1... e5 ...</td>\n",
       "    </tr>\n",
       "  </tbody>\n",
       "</table>\n",
       "</div>"
      ],
      "text/plain": [
       "      user_name  user_elo opening_code  \\\n",
       "0   bkrrhanife2      1772          D02   \n",
       "1  Chessbullets      1828          B08   \n",
       "2       Tweaker      1407          C21   \n",
       "\n",
       "                                        opening_name  \\\n",
       "0                   Queen's Pawn Game: London System   \n",
       "1  Pirc Defense: Classical Variation, Schlechter ...   \n",
       "2                                      Danish Gambit   \n",
       "\n",
       "                                                 pgn  \n",
       "0  1. d4 { [%eval 0.25] [%clk 0:10:00] } 1... d5 ...  \n",
       "1  1. e4 { [%eval 0.24] [%clk 0:10:00] } 1... g6 ...  \n",
       "2  1. e4 { [%eval 0.24] [%clk 0:00:30] } 1... e5 ...  "
      ]
     },
     "execution_count": 57,
     "metadata": {},
     "output_type": "execute_result"
    }
   ],
   "source": [
    "games_df = pd.read_csv('../data/processed_2019_06_df.csv')\n",
    "games_df = games_df[['user_name', 'user_elo', 'opening_code', 'opening_name', 'pgn']]\n",
    "games_df.head(3)"
   ]
  },
  {
   "cell_type": "code",
   "execution_count": 61,
   "metadata": {},
   "outputs": [
    {
     "data": {
      "text/plain": [
       "97255"
      ]
     },
     "execution_count": 61,
     "metadata": {},
     "output_type": "execute_result"
    }
   ],
   "source": [
    "len(games_df)"
   ]
  },
  {
   "attachments": {},
   "cell_type": "markdown",
   "metadata": {},
   "source": [
    "# **Code**"
   ]
  },
  {
   "attachments": {},
   "cell_type": "markdown",
   "metadata": {},
   "source": [
    "### **Utils**"
   ]
  },
  {
   "cell_type": "code",
   "execution_count": 28,
   "metadata": {},
   "outputs": [],
   "source": [
    "def get_substring(start_char, end_char, text):\n",
    "    '''\n",
    "    Helper function for unpack_game()\n",
    "    '''\n",
    "\n",
    "    search_string = start_char + '(.+?)' + end_char\n",
    "    result = re.search(search_string, text)\n",
    "\n",
    "    if result:\n",
    "        return result.group(1)\n",
    "    else:\n",
    "        return None "
   ]
  },
  {
   "attachments": {},
   "cell_type": "markdown",
   "metadata": {},
   "source": [
    "### **Data Exploration**"
   ]
  },
  {
   "attachments": {},
   "cell_type": "markdown",
   "metadata": {},
   "source": [
    "#### Unpacking PGN "
   ]
  },
  {
   "cell_type": "code",
   "execution_count": 17,
   "metadata": {},
   "outputs": [
    {
     "data": {
      "text/plain": [
       "['1',\n",
       " 'e4 { [%eval 0.24] [%clk 0:03:00] } 1..',\n",
       " 'c5 { [%eval 0.2] [%clk 0:03:00] } 2',\n",
       " 'Nf3 { [%eval 0.21] [%clk 0:02:58] } 2..',\n",
       " 'Nc6 { [%eval 0.08] [%clk 0:02:59] } 3']"
      ]
     },
     "execution_count": 17,
     "metadata": {},
     "output_type": "execute_result"
    }
   ],
   "source": [
    "sample_pgn = games_df.iloc[5]['pgn']\n",
    "moves = sample_pgn.split('. ')\n",
    "moves[0:5]"
   ]
  },
  {
   "cell_type": "code",
   "execution_count": 20,
   "metadata": {},
   "outputs": [
    {
     "data": {
      "text/plain": [
       "['Qh1+ { [%eval -68.09] [%clk 0:00:34] } 36',\n",
       " 'Rh2 { [%eval -27.75] [%clk 0:00:15] } 36..',\n",
       " 'Qf1+ { [%eval -15.03] [%clk 0:00:32] } 37',\n",
       " 'Rg2 { [%eval -13.73] [%clk 0:00:12] } 37..',\n",
       " 'Re2 { [%eval -12.83] [%clk 0:00:27] } 0-1\\n']"
      ]
     },
     "execution_count": 20,
     "metadata": {},
     "output_type": "execute_result"
    }
   ],
   "source": [
    "moves[-5:]"
   ]
  },
  {
   "cell_type": "code",
   "execution_count": 48,
   "metadata": {},
   "outputs": [],
   "source": [
    "def unpack_moves(pgn_str):\n",
    "    ''' \n",
    "    Returns a list of tuples, where each tuples is \n",
    "    (move, evaluation at move)\n",
    "    '''\n",
    "    moves = pgn_str.split('. ')[1:]\n",
    "    unpacked_moves = []\n",
    "    for move_str in moves:\n",
    "        move = get_substring('', ' {', move_str)\n",
    "        eval = get_substring('eval ', '] ', move_str)\n",
    "\n",
    "        if eval == None:\n",
    "            pass\n",
    "        elif '#' in eval:\n",
    "            eval = float(eval[1:])\n",
    "        else:\n",
    "            eval = float(eval)\n",
    "        \n",
    "        unpacked_moves.append((move, eval))\n",
    "\n",
    "    return unpacked_moves"
   ]
  },
  {
   "cell_type": "code",
   "execution_count": 49,
   "metadata": {},
   "outputs": [
    {
     "data": {
      "text/plain": [
       "[('e4', 0.24), ('c5', 0.2), ('Nf3', 0.21), ('Nc6', 0.08), ('Bb5', 0.0)]"
      ]
     },
     "execution_count": 49,
     "metadata": {},
     "output_type": "execute_result"
    }
   ],
   "source": [
    "sample_unpacked_moves = unpack_moves(sample_pgn)\n",
    "sample_unpacked_moves[:5]"
   ]
  },
  {
   "attachments": {},
   "cell_type": "markdown",
   "metadata": {},
   "source": [
    "#### Applying to Pandas DF "
   ]
  },
  {
   "cell_type": "code",
   "execution_count": 64,
   "metadata": {},
   "outputs": [
    {
     "data": {
      "text/html": [
       "<div>\n",
       "<style scoped>\n",
       "    .dataframe tbody tr th:only-of-type {\n",
       "        vertical-align: middle;\n",
       "    }\n",
       "\n",
       "    .dataframe tbody tr th {\n",
       "        vertical-align: top;\n",
       "    }\n",
       "\n",
       "    .dataframe thead th {\n",
       "        text-align: right;\n",
       "    }\n",
       "</style>\n",
       "<table border=\"1\" class=\"dataframe\">\n",
       "  <thead>\n",
       "    <tr style=\"text-align: right;\">\n",
       "      <th></th>\n",
       "      <th>unpacked_moves</th>\n",
       "    </tr>\n",
       "  </thead>\n",
       "  <tbody>\n",
       "    <tr>\n",
       "      <th>0</th>\n",
       "      <td>[(d4, 0.25), (d5, 0.25), (Bf4, 0.0), (Nf6, 0.0...</td>\n",
       "    </tr>\n",
       "    <tr>\n",
       "      <th>1</th>\n",
       "      <td>[(e4, 0.24), (g6, 0.46), (d4, 0.28), (Bg7, 0.3...</td>\n",
       "    </tr>\n",
       "    <tr>\n",
       "      <th>2</th>\n",
       "      <td>[(e4, 0.24), (e5, 0.37), (d4, -0.11), (exd4, 0...</td>\n",
       "    </tr>\n",
       "  </tbody>\n",
       "</table>\n",
       "</div>"
      ],
      "text/plain": [
       "                                      unpacked_moves\n",
       "0  [(d4, 0.25), (d5, 0.25), (Bf4, 0.0), (Nf6, 0.0...\n",
       "1  [(e4, 0.24), (g6, 0.46), (d4, 0.28), (Bg7, 0.3...\n",
       "2  [(e4, 0.24), (e5, 0.37), (d4, -0.11), (exd4, 0..."
      ]
     },
     "execution_count": 64,
     "metadata": {},
     "output_type": "execute_result"
    }
   ],
   "source": [
    "games_df['unpacked_moves'] = games_df.apply(lambda row: unpack_moves(row['pgn']), axis = 1)\n",
    "games_df[['unpacked_moves']].head(3)"
   ]
  },
  {
   "cell_type": "code",
   "execution_count": null,
   "metadata": {},
   "outputs": [],
   "source": []
  }
 ],
 "metadata": {
  "kernelspec": {
   "display_name": "base",
   "language": "python",
   "name": "python3"
  },
  "language_info": {
   "codemirror_mode": {
    "name": "ipython",
    "version": 3
   },
   "file_extension": ".py",
   "mimetype": "text/x-python",
   "name": "python",
   "nbconvert_exporter": "python",
   "pygments_lexer": "ipython3",
   "version": "3.8.2"
  },
  "orig_nbformat": 4,
  "vscode": {
   "interpreter": {
    "hash": "5b42ac72c9b76896d3ce7ea1e6ce0687bfd19e16fd46a51355c5c481bc6124b3"
   }
  }
 },
 "nbformat": 4,
 "nbformat_minor": 2
}
